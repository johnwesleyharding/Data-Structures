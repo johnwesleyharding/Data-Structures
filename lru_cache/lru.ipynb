{
 "cells": [
  {
   "cell_type": "code",
   "execution_count": 1,
   "metadata": {},
   "outputs": [],
   "source": [
    "import sys\n",
    "sys.path.append('../doubly_linked_list')\n",
    "from doubly_linked_list import DoublyLinkedList, ListNode"
   ]
  },
  {
   "cell_type": "code",
   "execution_count": 2,
   "metadata": {},
   "outputs": [],
   "source": [
    "class LRUCache:\n",
    "\n",
    "    def __init__(self, limit=10):\n",
    "        \n",
    "        self.limit = limit\n",
    "        self.ordering = DoublyLinkedList()\n",
    "        self.storage = {}\n",
    "        self.size = 0\n",
    "        \n",
    "#         self.limit = limit\n",
    "#         self.length = 0\n",
    "#         self.recent = DoublyLinkedList()\n",
    "#         self.data = {}\n",
    "\n",
    "    def get(self, key):\n",
    "        \n",
    "        if key in self.storage:\n",
    "            \n",
    "            node = self.storage[key]\n",
    "            self.ordering.move_to_front(node)            \n",
    "            return node.value # node.value[1]\n",
    "\n",
    "        else:\n",
    "            \n",
    "            return None\n",
    "        \n",
    "#         self.recent.move_to_front(key)\n",
    "#         return self.data[key]\n",
    "\n",
    "    def set(self, key, value):\n",
    "        \n",
    "        if key in self.storage:\n",
    "            \n",
    "            node = self.storage[key]\n",
    "            node.value = value # (key, value)\n",
    "            self.ordering.move_to_front(node)\n",
    "            return\n",
    "        \n",
    "        if self.size == self.limit:\n",
    "            \n",
    "            oldest_key = self.ordering.tail.value\n",
    "            del self.storage[oldest_key]\n",
    "            self.ordering.remove_from_tail()\n",
    "            self.size -=1\n",
    "        \n",
    "        self.ordering.add_to_head(value)\n",
    "        self.storage[key] = self.ordering.head\n",
    "        self.size += 1\n",
    "        \n",
    "#         self.recent.add_to_head(key)        \n",
    "#         self.data[key] = value"
   ]
  },
  {
   "cell_type": "code",
   "execution_count": 3,
   "metadata": {},
   "outputs": [],
   "source": [
    "thing = LRUCache()"
   ]
  },
  {
   "cell_type": "code",
   "execution_count": 15,
   "metadata": {},
   "outputs": [
    {
     "data": {
      "text/plain": [
       "{'hi': <doubly_linked_list.ListNode at 0x2598acf7948>}"
      ]
     },
     "execution_count": 15,
     "metadata": {},
     "output_type": "execute_result"
    }
   ],
   "source": [
    "thing.storage"
   ]
  },
  {
   "cell_type": "code",
   "execution_count": 16,
   "metadata": {},
   "outputs": [
    {
     "data": {
      "text/plain": [
       "1"
      ]
     },
     "execution_count": 16,
     "metadata": {},
     "output_type": "execute_result"
    }
   ],
   "source": [
    "thing.ordering.length"
   ]
  },
  {
   "cell_type": "code",
   "execution_count": 14,
   "metadata": {},
   "outputs": [],
   "source": [
    "thing.set('hi', 5)"
   ]
  },
  {
   "cell_type": "code",
   "execution_count": 11,
   "metadata": {},
   "outputs": [
    {
     "data": {
      "text/plain": [
       "5"
      ]
     },
     "execution_count": 11,
     "metadata": {},
     "output_type": "execute_result"
    }
   ],
   "source": [
    "thing.get('hi')"
   ]
  },
  {
   "cell_type": "code",
   "execution_count": null,
   "metadata": {},
   "outputs": [],
   "source": []
  }
 ],
 "metadata": {
  "kernelspec": {
   "display_name": "Python 3",
   "language": "python",
   "name": "python3"
  },
  "language_info": {
   "codemirror_mode": {
    "name": "ipython",
    "version": 3
   },
   "file_extension": ".py",
   "mimetype": "text/x-python",
   "name": "python",
   "nbconvert_exporter": "python",
   "pygments_lexer": "ipython3",
   "version": "3.7.4"
  }
 },
 "nbformat": 4,
 "nbformat_minor": 4
}
